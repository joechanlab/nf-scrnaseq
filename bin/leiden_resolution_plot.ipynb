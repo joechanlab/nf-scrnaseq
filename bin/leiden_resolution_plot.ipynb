{
 "cells": [
  {
   "cell_type": "code",
   "execution_count": null,
   "id": "27ad0896-1167-4918-a499-c502d7342360",
   "metadata": {},
   "outputs": [],
   "source": [
    "import os\n",
    "import scanpy as sc\n",
    "import seaborn as sns\n",
    "import matplotlib.pyplot as plt\n",
    "from IPython.display import display\n",
    "\n",
    "os.environ[ 'NUMBA_CACHE_DIR' ] = '/tmp/'\n",
    "sc.settings.verbosity = 3 # verbosity: errors (0), warnings (1), info (2), hints (3)\n",
    "sc.logging.print_header()\n",
    "sc.settings.set_figure_params(dpi=80, facecolor='white')\n",
    "sns.set_style('ticks')\n",
    "\n",
    "path = \"./\"\n",
    "filelist = os.listdir(path)\n",
    "h5file = [x for x in filelist if x.endswith('h5ad')]\n",
    "adata = sc.read_h5ad(h5file)\n",
    "rlist = adata.uns['adj_rand_index_consistency_for_r'].keys()"
   ]
  },
  {
   "cell_type": "code",
   "execution_count": null,
   "id": "a6c2db65",
   "metadata": {},
   "outputs": [],
   "source": [
    "display(adata.uns['leiden_n_components_for_r_k'])\n",
    "display(adata.uns['leiden_n_clusters_for_r_k'])"
   ]
  },
  {
   "cell_type": "code",
   "execution_count": null,
   "id": "0fc4d9f7",
   "metadata": {},
   "outputs": [],
   "source": [
    "for r in rlist:\n",
    "    df = adata.uns['adj_rand_index_consistency_for_r'][str(r)]\n",
    "    plt.figure(figsize=(10, 10))\n",
    "    sns.heatmap(df, vmin=df.min().min(), vmax=1, square=True, cmap=('coolwarm'),\n",
    "                annot=True, fmt='.2f', cbar_kws={'shrink': 0.8}, annot_kws={'fontsize': 8}\n",
    "                ).invert_yaxis()\n",
    "    plt.xlabel('k_1')\n",
    "    plt.ylabel('k_2')\n",
    "    plt.title(f\"Adjusted Rand index scores, r = {format(r, '.2f')}\")\n",
    "    plt.show()"
   ]
  },
  {
   "cell_type": "code",
   "execution_count": null,
   "id": "e0874772",
   "metadata": {},
   "outputs": [],
   "source": [
    "fig, ax = plt.subplots(nrows=1, ncols=1, figsize=(12, 3.5))\n",
    "adata.uns['leiden_silhouette_coefficient_for_r_k'].T.plot.bar(ax=ax)\n",
    "ax.set_xlabel('k')\n",
    "ax.set_ylabel('Silhouette Coefficient score')\n",
    "ax.set_title('Silhouette Coefficient score')\n",
    "ax.legend(facecolor='white', loc='upper left', bbox_to_anchor=(1, 1), title='r')\n",
    "fig.tight_layout()\n",
    "plt.show()"
   ]
  },
  {
   "cell_type": "code",
   "execution_count": null,
   "id": "231ab93c",
   "metadata": {},
   "outputs": [],
   "source": [
    "fig, ax = plt.subplots(nrows=1, ncols=1, figsize=(12, 3.5))\n",
    "adata.uns['leiden_calinski_harabasz_index_for_r_k'].T.plot.bar(ax=ax)\n",
    "ax.set_xlabel('k')\n",
    "ax.set_ylabel('Calinski-Harabasz Index')\n",
    "ax.set_title('Calinski-Harabasz Index')\n",
    "ax.legend(facecolor='white', loc='upper left', bbox_to_anchor=(1, 1), title='r')\n",
    "fig.tight_layout()\n",
    "plt.show()\n"
   ]
  }
 ],
 "metadata": {
  "kernelspec": {
   "display_name": "Python [conda env:postprocessing]",
   "language": "python",
   "name": "postprocessing"
  },
  "language_info": {
   "codemirror_mode": {
    "name": "ipython",
    "version": 3
   },
   "file_extension": ".py",
   "mimetype": "text/x-python",
   "name": "python",
   "nbconvert_exporter": "python",
   "pygments_lexer": "ipython3",
   "version": "3.12.4"
  }
 },
 "nbformat": 4,
 "nbformat_minor": 5
}
